{
 "cells": [
  {
   "attachments": {},
   "cell_type": "markdown",
   "metadata": {},
   "source": [
    "### Финансовые данные по годам"
   ]
  },
  {
   "cell_type": "code",
   "execution_count": 1,
   "metadata": {},
   "outputs": [
    {
     "name": "stdout",
     "output_type": "stream",
     "text": [
      "year=2020, revenue=278.03, ebitda=121.9, fcf=35.23, net debt=180.28, net debt/oibda=1.48, price_25%=319.02, price_50%=325.12, price_75%=332.2\n",
      "year=2021, revenue=310.22, ebitda=134.54, fcf=31.69, net debt=228.86, net debt/oibda=1.7, price_25%=316.61, price_50%=321.8, price_75%=331.02\n",
      "year=2022, revenue=317.66, ebitda=131.53, fcf=21.81, net debt=224.99, net debt/oibda=1.71, price_25%=214.03, price_50%=233.55, price_75%=253.72\n"
     ]
    }
   ],
   "source": [
    "from mtss import MTS\n",
    "\n",
    "mts = MTS()\n",
    "\n",
    "for year in mts.get_years():\n",
    "    print(f\"year={year}, revenue={mts.get_sales_per_share(year)}, \"\n",
    "          f\"oibda={mts.get_oibda_per_share(year)}, \"\n",
    "          f\"fcf={mts.get_fcf_per_share(year)}, \"\n",
    "          f\"net debt={mts.get_net_debt_per_share(year)}, \"\n",
    "          f\"net debt/oibda={mts.get_net_debt_oibda(year)}, \"\n",
    "          f\"price_25%={mts.get_price(year, 0.25)}, price_50%={mts.get_price(year)}, price_75%={mts.get_price(year, 0.75)}\")"
   ]
  },
  {
   "attachments": {},
   "cell_type": "markdown",
   "metadata": {},
   "source": [
    "### Выручка по видам"
   ]
  },
  {
   "cell_type": "code",
   "execution_count": 1,
   "metadata": {},
   "outputs": [
    {
     "data": {
      "text/html": [
       "<div>\n",
       "<style scoped>\n",
       "    .dataframe tbody tr th:only-of-type {\n",
       "        vertical-align: middle;\n",
       "    }\n",
       "\n",
       "    .dataframe tbody tr th {\n",
       "        vertical-align: top;\n",
       "    }\n",
       "\n",
       "    .dataframe thead th {\n",
       "        text-align: right;\n",
       "    }\n",
       "</style>\n",
       "<table border=\"1\" class=\"dataframe\">\n",
       "  <thead>\n",
       "    <tr style=\"text-align: right;\">\n",
       "      <th></th>\n",
       "      <th>sales_type</th>\n",
       "      <th>2020</th>\n",
       "      <th>2021</th>\n",
       "      <th>2022</th>\n",
       "    </tr>\n",
       "  </thead>\n",
       "  <tbody>\n",
       "    <tr>\n",
       "      <th>0</th>\n",
       "      <td>communication services</td>\n",
       "      <td>396413</td>\n",
       "      <td>416525</td>\n",
       "      <td>435584</td>\n",
       "    </tr>\n",
       "    <tr>\n",
       "      <th>1</th>\n",
       "      <td>bank</td>\n",
       "      <td>34432</td>\n",
       "      <td>47246</td>\n",
       "      <td>66394</td>\n",
       "    </tr>\n",
       "    <tr>\n",
       "      <th>2</th>\n",
       "      <td>phone sales</td>\n",
       "      <td>62463</td>\n",
       "      <td>68864</td>\n",
       "      <td>43603</td>\n",
       "    </tr>\n",
       "    <tr>\n",
       "      <th>3</th>\n",
       "      <td>other</td>\n",
       "      <td>4733</td>\n",
       "      <td>6286</td>\n",
       "      <td>12079</td>\n",
       "    </tr>\n",
       "  </tbody>\n",
       "</table>\n",
       "</div>"
      ],
      "text/plain": [
       "               sales_type    2020    2021    2022\n",
       "0  communication services  396413  416525  435584\n",
       "1                    bank   34432   47246   66394\n",
       "2             phone sales   62463   68864   43603\n",
       "3                   other    4733    6286   12079"
      ]
     },
     "execution_count": 1,
     "metadata": {},
     "output_type": "execute_result"
    },
    {
     "data": {
      "image/png": "[encoded data removed]",
      "text/plain": [
       "<Figure size 640x480 with 1 Axes>"
      ]
     },
     "metadata": {},
     "output_type": "display_data"
    }
   ],
   "source": [
    "import seaborn\n",
    "%matplotlib inline\n",
    "\n",
    "from mtss import MTS\n",
    "\n",
    "mts = MTS()\n",
    "year = 2022\n",
    "\n",
    "sales_country = mts.get_sales_type()\n",
    "\n",
    "seaborn.barplot(sales_country, x='sales_type', y=str(year))\n",
    "sales_country"
   ]
  }
 ],
 "metadata": {
  "kernelspec": {
   "display_name": ".venv",
   "language": "python",
   "name": "python3"
  },
  "language_info": {
   "codemirror_mode": {
    "name": "ipython",
    "version": 3
   },
   "file_extension": ".py",
   "mimetype": "text/x-python",
   "name": "python",
   "nbconvert_exporter": "python",
   "pygments_lexer": "ipython3",
   "version": "3.11.2"
  },
  "orig_nbformat": 4
 },
 "nbformat": 4,
 "nbformat_minor": 2
}
