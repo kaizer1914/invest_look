{
 "cells": [
  {
   "attachments": {},
   "cell_type": "markdown",
   "metadata": {},
   "source": [
    "### Финансовые данные по годам"
   ]
  },
  {
   "cell_type": "code",
   "execution_count": 1,
   "metadata": {},
   "outputs": [
    {
     "name": "stdout",
     "output_type": "stream",
     "text": [
      "year=2020, revenue=278.03, ebitda=121.9, fcf=35.23, net debt=180.28, net debt/oibda=1.48, price_25%=319.02, price_50%=325.12, price_75%=332.2\n",
      "year=2021, revenue=310.22, ebitda=134.54, fcf=31.69, net debt=228.86, net debt/oibda=1.7, price_25%=316.61, price_50%=321.8, price_75%=331.02\n",
      "year=2022, revenue=317.66, ebitda=131.53, fcf=21.81, net debt=224.99, net debt/oibda=1.71, price_25%=214.03, price_50%=233.55, price_75%=253.72\n"
     ]
    }
   ],
   "source": [
    "from mtss import MTS\n",
    "\n",
    "mts = MTS()\n",
    "\n",
    "for year in mts.get_years():\n",
    "    print(f\"year={year}, revenue={mts.get_sales_per_share(year)}, \"\n",
    "          f\"ebitda={mts.get_oibda_per_share(year)}, \"\n",
    "          f\"fcf={mts.get_fcf_per_share(year)}, \"\n",
    "          f\"net debt={mts.get_net_debt_per_share(year)}, \"\n",
    "          f\"net debt/oibda={mts.get_net_debt_oibda(year)}, \"\n",
    "          f\"price_25%={mts.get_price(year, 0.25)}, price_50%={mts.get_price(year)}, price_75%={mts.get_price(year, 0.75)}\")"
   ]
  },
  {
   "attachments": {},
   "cell_type": "markdown",
   "metadata": {},
   "source": [
    "### Выручка по странам"
   ]
  }
 ],
 "metadata": {
  "kernelspec": {
   "display_name": ".venv",
   "language": "python",
   "name": "python3"
  },
  "language_info": {
   "codemirror_mode": {
    "name": "ipython",
    "version": 3
   },
   "file_extension": ".py",
   "mimetype": "text/x-python",
   "name": "python",
   "nbconvert_exporter": "python",
   "pygments_lexer": "ipython3",
   "version": "3.11.2"
  },
  "orig_nbformat": 4
 },
 "nbformat": 4,
 "nbformat_minor": 2
}
