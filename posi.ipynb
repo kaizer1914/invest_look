{
 "cells": [
  {
   "attachments": {},
   "cell_type": "markdown",
   "metadata": {},
   "source": [
    "### Финансовые данные по годам"
   ]
  },
  {
   "cell_type": "code",
   "execution_count": 2,
   "metadata": {},
   "outputs": [
    {
     "name": "stdout",
     "output_type": "stream",
     "text": [
      "year=2019, revenue=556.61, ebitda=113.23, fcf=50.81, net debt=173.55, net debt/ebitda=1.53, price_25%=nan, price_50%=nan, price_75%=nan\n",
      "year=2020, revenue=891.94, ebitda=349.84, fcf=35.48, net debt=151.94, net debt/ebitda=0.43, price_25%=nan, price_50%=nan, price_75%=nan\n",
      "year=2021, revenue=294.12, ebitda=112.15, fcf=34.54, net debt=64.14, net debt/ebitda=0.57, price_25%=873.41, price_50%=886.33, price_75%=903.17\n",
      "year=2022, revenue=208.71, ebitda=103.39, fcf=35.98, net debt=10.23, net debt/ebitda=0.1, price_25%=872.0, price_50%=1002.48, price_75%=1214.94\n"
     ]
    }
   ],
   "source": [
    "%reload_ext autoreload\n",
    "%autoreload 2\n",
    "\n",
    "from posi import Positive\n",
    "\n",
    "posi = Positive()\n",
    "\n",
    "for year in posi.get_fin_years():\n",
    "    print(f\"year={year}, revenue={posi.get_revenue_per_share(year)}, \"\n",
    "          f\"ebitda={posi.get_ebitda_per_share(year)}, \"\n",
    "          f\"fcf={posi.get_fcf_per_share(year)}, \"\n",
    "          f\"net debt={posi.get_net_debt_per_share(year)}, \"\n",
    "          f\"net debt/ebitda={posi.get_net_debt_ebitda(year)}, \"\n",
    "          f\"price_25%={posi.get_price(year, 0.25)}, price_50%={posi.get_price(year)}, price_75%={posi.get_price(year, 0.75)}\")"
   ]
  },
  {
   "attachments": {},
   "cell_type": "markdown",
   "metadata": {},
   "source": [
    "### Выручка по странам"
   ]
  }
 ],
 "metadata": {
  "kernelspec": {
   "display_name": ".venv",
   "language": "python",
   "name": "python3"
  },
  "language_info": {
   "codemirror_mode": {
    "name": "ipython",
    "version": 3
   },
   "file_extension": ".py",
   "mimetype": "text/x-python",
   "name": "python",
   "nbconvert_exporter": "python",
   "pygments_lexer": "ipython3",
   "version": "3.11.3"
  },
  "orig_nbformat": 4
 },
 "nbformat": 4,
 "nbformat_minor": 2
}
