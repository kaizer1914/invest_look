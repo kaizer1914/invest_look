{
 "cells": [
  {
   "attachments": {},
   "cell_type": "markdown",
   "metadata": {},
   "source": [
    "### Финансовые данные по годам"
   ]
  },
  {
   "cell_type": "code",
   "execution_count": 1,
   "metadata": {},
   "outputs": [
    {
     "name": "stdout",
     "output_type": "stream",
     "text": [
      "year=2019, revenue=170.85, oibda=61.3, capex=61.3, fcf=10.86, net debt=48.26, net debt/oibda=0.79, price_25%=73.53, price_50%=78.89, price_75%=80.31\n",
      "year=2020, revenue=156.59, oibda=55.56, capex=55.56, fcf=6.49, net debt=38.94, net debt/oibda=0.7, price_25%=82.62, price_50%=89.44, price_75%=95.65\n",
      "year=2021, revenue=166.09, oibda=62.65, capex=62.65, fcf=9.31, net debt=42.33, net debt/oibda=0.68, price_25%=93.03, price_50%=99.11, price_75%=104.23\n"
     ]
    }
   ],
   "source": [
    "from rtkm import Rostelekom\n",
    "\n",
    "rostelekom = Rostelekom()\n",
    "\n",
    "for year in rostelekom.get_years():\n",
    "    print(f\"year={year}, revenue={rostelekom.get_sales_per_share(year)}, \"\n",
    "          f\"oibda={rostelekom.get_oibda_per_share(year)}, \"\n",
    "          f\"capex={rostelekom.get_capex_per_share(year)}, \"\n",
    "          f\"fcf={rostelekom.get_fcf_per_share(year)}, \"\n",
    "          f\"net debt={rostelekom.get_net_debt_per_share(year)}, \"\n",
    "          f\"net debt/oibda={rostelekom.get_net_debt_oibda(year)}, \"\n",
    "          f\"price_25%={rostelekom.get_price(year, 0.25)}, price_50%={rostelekom.get_price(year)}, price_75%={rostelekom.get_price(year, 0.75)}\")"
   ]
  },
  {
   "attachments": {},
   "cell_type": "markdown",
   "metadata": {},
   "source": [
    "### Выручка по видам"
   ]
  }
 ],
 "metadata": {
  "kernelspec": {
   "display_name": ".venv",
   "language": "python",
   "name": "python3"
  },
  "language_info": {
   "codemirror_mode": {
    "name": "ipython",
    "version": 3
   },
   "file_extension": ".py",
   "mimetype": "text/x-python",
   "name": "python",
   "nbconvert_exporter": "python",
   "pygments_lexer": "ipython3",
   "version": "3.11.2"
  },
  "orig_nbformat": 4
 },
 "nbformat": 4,
 "nbformat_minor": 2
}
