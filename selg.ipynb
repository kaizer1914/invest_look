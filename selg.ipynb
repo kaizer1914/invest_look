{
 "cells": [
  {
   "attachments": {},
   "cell_type": "markdown",
   "metadata": {},
   "source": [
    "### Финансовые данные по годам"
   ]
  },
  {
   "cell_type": "code",
   "execution_count": 7,
   "metadata": {},
   "outputs": [
    {
     "name": "stdout",
     "output_type": "stream",
     "text": [
      "[2013, 2014, 2015, 2016, 2017, 2018, 2019, 2020, 2021, 2022]\n",
      "year=2013, revenue=8.38, ebitda=2.9, fcf=nan, net debt=nan, net debt/ebitda=nan, price_25%=nan, price_50%=nan, price_75%=nan\n",
      "year=2014, revenue=8.86, ebitda=3.22, fcf=nan, net debt=nan, net debt/ebitda=nan, price_25%=3.92, price_50%=4.21, price_75%=4.65\n",
      "year=2015, revenue=13.05, ebitda=5.64, fcf=nan, net debt=nan, net debt/ebitda=nan, price_25%=4.0, price_50%=4.08, price_75%=4.23\n",
      "year=2016, revenue=18.21, ebitda=8.06, fcf=nan, net debt=nan, net debt/ebitda=nan, price_25%=7.32, price_50%=7.53, price_75%=7.9\n",
      "year=2017, revenue=18.69, ebitda=7.41, fcf=nan, net debt=23.69, net debt/ebitda=3.2, price_25%=9.28, price_50%=9.42, price_75%=10.01\n",
      "year=2018, revenue=25.61, ebitda=10.25, fcf=nan, net debt=29.33, net debt/ebitda=2.86, price_25%=9.37, price_50%=9.79, price_75%=10.01\n",
      "year=2019, revenue=33.01, ebitda=14.05, fcf=nan, net debt=37.37, net debt/ebitda=2.66, price_25%=9.39, price_50%=9.54, price_75%=9.76\n",
      "year=2020, revenue=39.55, ebitda=17.22, fcf=7.67, net debt=44.54, net debt/ebitda=2.59, price_25%=17.11, price_50%=26.16, price_75%=44.55\n",
      "year=2021, revenue=42.1, ebitda=22.74, fcf=0.33, net debt=45.55, net debt/ebitda=2.0, price_25%=43.89, price_50%=44.96, price_75%=47.3\n",
      "year=2022, revenue=36.55, ebitda=17.62, fcf=0.0, net debt=45.0, net debt/ebitda=2.55, price_25%=42.41, price_50%=45.75, price_75%=49.25\n"
     ]
    }
   ],
   "source": [
    "%reload_ext autoreload\n",
    "%autoreload 2\n",
    "\n",
    "from selg import Seligdar\n",
    "\n",
    "seligdar = Seligdar()\n",
    "\n",
    "for year in seligdar.get_fin_years():\n",
    "    print(f\"year={year}, revenue={seligdar.get_revenue_per_share(year)}, \"\n",
    "          f\"ebitda={seligdar.get_ebitda_per_share(year)}, \"\n",
    "          f\"fcf={seligdar.get_fcf_per_share(year)}, \"\n",
    "          f\"net debt={seligdar.get_net_debt_per_share(year)}, \"\n",
    "          f\"net debt/ebitda={seligdar.get_net_debt_ebitda(year)}, \"\n",
    "          f\"price_25%={seligdar.get_price(year, 0.25)}, price_50%={seligdar.get_price(year)}, price_75%={seligdar.get_price(year, 0.75)}\")"
   ]
  },
  {
   "attachments": {},
   "cell_type": "markdown",
   "metadata": {},
   "source": [
    "### Выручка по странам"
   ]
  }
 ],
 "metadata": {
  "kernelspec": {
   "display_name": ".venv",
   "language": "python",
   "name": "python3"
  },
  "language_info": {
   "codemirror_mode": {
    "name": "ipython",
    "version": 3
   },
   "file_extension": ".py",
   "mimetype": "text/x-python",
   "name": "python",
   "nbconvert_exporter": "python",
   "pygments_lexer": "ipython3",
   "version": "3.11.3"
  },
  "orig_nbformat": 4
 },
 "nbformat": 4,
 "nbformat_minor": 2
}
