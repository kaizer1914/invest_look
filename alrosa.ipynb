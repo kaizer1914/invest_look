{
 "cells": [
  {
   "attachments": {},
   "cell_type": "markdown",
   "metadata": {},
   "source": [
    "### Финансовые данные по годам"
   ]
  },
  {
   "cell_type": "code",
   "execution_count": 3,
   "metadata": {},
   "outputs": [
    {
     "name": "stdout",
     "output_type": "stream",
     "text": [
      "year=2017, revenue=37.39, ebitda=17.23, fcf=9.98, net debt=11.68, net debt/ebitda=0.68, price_25%=79.46, price_50%=85.93, price_75%=93.8\n",
      "year=2018, revenue=40.69, ebitda=21.18, fcf=12.53, net debt=9.16, net debt/ebitda=0.43, price_25%=88.75, price_50%=95.37, price_75%=100.0\n",
      "year=2019, revenue=32.34, ebitda=14.54, fcf=6.46, net debt=10.81, net debt/ebitda=0.74, price_25%=76.12, price_50%=85.35, price_75%=95.02\n",
      "year=2020, revenue=30.07, ebitda=11.9, fcf=10.79, net debt=4.24, net debt/ebitda=0.36, price_25%=64.35, price_50%=69.83, price_75%=81.81\n",
      "year=2021, revenue=45.08, ebitda=18.94, fcf=14.37, net debt=8.31, net debt/ebitda=0.44, price_25%=107.04, price_50%=124.95, price_75%=133.15\n"
     ]
    }
   ],
   "source": [
    "%reload_ext autoreload\n",
    "%autoreload 2\n",
    "\n",
    "from alrs import Alrosa\n",
    "\n",
    "alrosa = Alrosa()\n",
    "\n",
    "for year in alrosa.get_fin_years():\n",
    "    print(f\"year={year}, revenue={alrosa.get_revenue_per_share(year)}, \"\n",
    "          f\"ebitda={alrosa.get_ebitda_per_share(year)}, \"\n",
    "          f\"fcf={alrosa.get_fcf_per_share(year)}, \"\n",
    "          f\"net debt={alrosa.get_net_debt_per_share(year)}, \"\n",
    "          f\"net debt/ebitda={alrosa.get_net_debt_ebitda(year)}, \"\n",
    "          f\"price_25%={alrosa.get_price(year, 0.25)}, price_50%={alrosa.get_price(year)}, price_75%={alrosa.get_price(year, 0.75)}\")"
   ]
  },
  {
   "attachments": {},
   "cell_type": "markdown",
   "metadata": {},
   "source": [
    "### Выручка по странам"
   ]
  },
  {
   "cell_type": "code",
   "execution_count": 4,
   "metadata": {},
   "outputs": [
    {
     "data": {
      "text/html": [
       "<div>\n",
       "<style scoped>\n",
       "    .dataframe tbody tr th:only-of-type {\n",
       "        vertical-align: middle;\n",
       "    }\n",
       "\n",
       "    .dataframe tbody tr th {\n",
       "        vertical-align: top;\n",
       "    }\n",
       "\n",
       "    .dataframe thead th {\n",
       "        text-align: right;\n",
       "    }\n",
       "</style>\n",
       "<table border=\"1\" class=\"dataframe\">\n",
       "  <thead>\n",
       "    <tr style=\"text-align: right;\">\n",
       "      <th></th>\n",
       "      <th>Country</th>\n",
       "      <th>2017</th>\n",
       "      <th>2018</th>\n",
       "      <th>2019</th>\n",
       "      <th>2020</th>\n",
       "      <th>2021</th>\n",
       "    </tr>\n",
       "  </thead>\n",
       "  <tbody>\n",
       "    <tr>\n",
       "      <th>0</th>\n",
       "      <td>Belgium</td>\n",
       "      <td>126097</td>\n",
       "      <td>130711</td>\n",
       "      <td>100381</td>\n",
       "      <td>75338</td>\n",
       "      <td>119759</td>\n",
       "    </tr>\n",
       "    <tr>\n",
       "      <th>1</th>\n",
       "      <td>United Arab Emirates</td>\n",
       "      <td>19563</td>\n",
       "      <td>27651</td>\n",
       "      <td>22546</td>\n",
       "      <td>44972</td>\n",
       "      <td>66648</td>\n",
       "    </tr>\n",
       "    <tr>\n",
       "      <th>2</th>\n",
       "      <td>India</td>\n",
       "      <td>39605</td>\n",
       "      <td>41243</td>\n",
       "      <td>37486</td>\n",
       "      <td>44824</td>\n",
       "      <td>66614</td>\n",
       "    </tr>\n",
       "    <tr>\n",
       "      <th>3</th>\n",
       "      <td>Russian Federation</td>\n",
       "      <td>49739</td>\n",
       "      <td>52713</td>\n",
       "      <td>45929</td>\n",
       "      <td>34246</td>\n",
       "      <td>40021</td>\n",
       "    </tr>\n",
       "    <tr>\n",
       "      <th>4</th>\n",
       "      <td>Israel</td>\n",
       "      <td>24566</td>\n",
       "      <td>29615</td>\n",
       "      <td>17585</td>\n",
       "      <td>14004</td>\n",
       "      <td>27184</td>\n",
       "    </tr>\n",
       "    <tr>\n",
       "      <th>5</th>\n",
       "      <td>China</td>\n",
       "      <td>10687</td>\n",
       "      <td>11565</td>\n",
       "      <td>8683</td>\n",
       "      <td>2269</td>\n",
       "      <td>3326</td>\n",
       "    </tr>\n",
       "    <tr>\n",
       "      <th>6</th>\n",
       "      <td>Other countries</td>\n",
       "      <td>5124</td>\n",
       "      <td>6147</td>\n",
       "      <td>5576</td>\n",
       "      <td>5831</td>\n",
       "      <td>8452</td>\n",
       "    </tr>\n",
       "  </tbody>\n",
       "</table>\n",
       "</div>"
      ],
      "text/plain": [
       "                Country    2017    2018    2019   2020    2021\n",
       "0               Belgium  126097  130711  100381  75338  119759\n",
       "1  United Arab Emirates   19563   27651   22546  44972   66648\n",
       "2                 India   39605   41243   37486  44824   66614\n",
       "3    Russian Federation   49739   52713   45929  34246   40021\n",
       "4                Israel   24566   29615   17585  14004   27184\n",
       "5                 China   10687   11565    8683   2269    3326\n",
       "6       Other countries    5124    6147    5576   5831    8452"
      ]
     },
     "execution_count": 4,
     "metadata": {},
     "output_type": "execute_result"
    },
    {
     "data": {
      "image/png": "[encoded data removed]",
      "text/plain": [
       "<Figure size 640x480 with 1 Axes>"
      ]
     },
     "metadata": {},
     "output_type": "display_data"
    }
   ],
   "source": [
    "import seaborn\n",
    "%matplotlib inline\n",
    "\n",
    "from alrs import Alrosa\n",
    "\n",
    "alrosa = Alrosa()\n",
    "year = 2021\n",
    "\n",
    "sales_country = alrosa.get_sales_country()\n",
    "sales_country.drop(sales_country[sales_country['Country'] == 'Total revenue'].index, inplace=True)\n",
    "\n",
    "seaborn.barplot(sales_country, x='Country', y=str(year))\n",
    "sales_country"
   ]
  }
 ],
 "metadata": {
  "kernelspec": {
   "display_name": ".venv",
   "language": "python",
   "name": "python3"
  },
  "language_info": {
   "codemirror_mode": {
    "name": "ipython",
    "version": 3
   },
   "file_extension": ".py",
   "mimetype": "text/x-python",
   "name": "python",
   "nbconvert_exporter": "python",
   "pygments_lexer": "ipython3",
   "version": "3.11.3"
  },
  "orig_nbformat": 4
 },
 "nbformat": 4,
 "nbformat_minor": 2
}
